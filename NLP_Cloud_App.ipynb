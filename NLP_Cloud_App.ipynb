{
  "nbformat": 4,
  "nbformat_minor": 0,
  "metadata": {
    "colab": {
      "provenance": []
    },
    "kernelspec": {
      "name": "python3",
      "display_name": "Python 3"
    },
    "language_info": {
      "name": "python"
    }
  },
  "cells": [
    {
      "cell_type": "code",
      "execution_count": 3,
      "metadata": {
        "id": "-CjMNV950myV",
        "colab": {
          "base_uri": "https://localhost:8080/"
        },
        "outputId": "109154f7-8a95-4b8f-c8c7-7386d3a868df"
      },
      "outputs": [
        {
          "output_type": "stream",
          "name": "stdout",
          "text": [
            "Collecting nlpcloud\n",
            "  Downloading nlpcloud-1.1.47-py3-none-any.whl.metadata (1.1 kB)\n",
            "Requirement already satisfied: requests in /usr/local/lib/python3.11/dist-packages (from nlpcloud) (2.32.3)\n",
            "Requirement already satisfied: charset-normalizer<4,>=2 in /usr/local/lib/python3.11/dist-packages (from requests->nlpcloud) (3.4.1)\n",
            "Requirement already satisfied: idna<4,>=2.5 in /usr/local/lib/python3.11/dist-packages (from requests->nlpcloud) (3.10)\n",
            "Requirement already satisfied: urllib3<3,>=1.21.1 in /usr/local/lib/python3.11/dist-packages (from requests->nlpcloud) (2.4.0)\n",
            "Requirement already satisfied: certifi>=2017.4.17 in /usr/local/lib/python3.11/dist-packages (from requests->nlpcloud) (2025.4.26)\n",
            "Downloading nlpcloud-1.1.47-py3-none-any.whl (3.9 kB)\n",
            "Installing collected packages: nlpcloud\n",
            "Successfully installed nlpcloud-1.1.47\n"
          ]
        }
      ],
      "source": [
        "!pip install nlpcloud"
      ]
    },
    {
      "cell_type": "code",
      "source": [
        "import nlpcloud"
      ],
      "metadata": {
        "id": "iGzHqQCmfzdp"
      },
      "execution_count": 19,
      "outputs": []
    },
    {
      "cell_type": "code",
      "source": [
        "class NLPHome:\n",
        "    def __init__(self):\n",
        "        self.__database = {}\n",
        "        self.__first_menu()\n",
        "\n",
        "    def __first_menu(self):\n",
        "      first_input = input(\"\"\"\n",
        "      Hi There Welcome to NLP Home. How would you like to proceed!\n",
        "      1.Not a member!. Wanna Register?\n",
        "      2.Already a member?. Pls login\n",
        "      3.Exit\n",
        "      \"\"\")\n",
        "      if first_input == '1':\n",
        "        self.__register()\n",
        "      elif first_input == '2':\n",
        "        self.__login()\n",
        "      elif first_input == '3':\n",
        "        exit()\n",
        "      else:\n",
        "        print(\"Invlaid Input pls try again\")\n",
        "        self.__first_menu()\n",
        "\n",
        "    def __second_menu(self):\n",
        "        second_input = input(\"\"\"\n",
        "        Welcome to NLP Home. How would you like to proceed!\n",
        "        1.NER\n",
        "        2.Language Detection\n",
        "        3.sentiment Analysis\n",
        "        4.Exit\n",
        "        \"\"\")\n",
        "        if second_input == '1':\n",
        "          self.__ner()\n",
        "        elif second_input == '2':\n",
        "          self.__language_detetction()\n",
        "        elif second_input == '3':\n",
        "          self.__sentiment_analysis()\n",
        "        elif second_input == '4':\n",
        "          exit()\n",
        "        else:\n",
        "          print(\"Invlaid Input pls try again\")\n",
        "          self.__second_menu()\n",
        "\n",
        "    def __register(self):\n",
        "      name = input(\"Enter Name: \")\n",
        "      email = input(\"Enter Email: \")\n",
        "      while not email.endswith(\"@gmail.com\"):\n",
        "        print(\"Invalid – must be a valid Gmail address.\")\n",
        "        email = input(\"Enter Email: \")\n",
        "      password = input(\"Enter Password: \")\n",
        "\n",
        "      if email in self.__database:\n",
        "        print(\"Email already exists please login\")\n",
        "      else:\n",
        "        self.__database[email] = [name,password]\n",
        "        print(\"Registration Successful\")\n",
        "        print(self.__database)\n",
        "      self.__first_menu()\n",
        "\n",
        "\n",
        "    def __login(self):\n",
        "      email = input(\"Enter the email: \")\n",
        "      password = input(\"Enter the password: \")\n",
        "      if email in self.__database:\n",
        "        if self.__database[email][1] ==  password:\n",
        "          print(\"login successful\")\n",
        "          self.__second_menu()\n",
        "        else:\n",
        "          print(\"Wrong password\")\n",
        "          self.__login()\n",
        "      else:\n",
        "        print(\"This email is not registered\")\n",
        "        self.__first_menu()\n",
        "\n",
        "    def __ner(self):\n",
        "      para = input(\"Enter the paragraph: \")\n",
        "      search_term = input(\"What would you like to search: \")\n",
        "      client = nlpcloud.Client(\"finetuned-gpt-neox-20b\", \"e1299d412c743121895ffdcf835bda98dacb606c\", gpu=True, lang=\"en\")\n",
        "      result = client.entities(para, searched_entity=search_term)\n",
        "      print(result)\n",
        "\n",
        "    def __sentiment_analysis(self):\n",
        "      para = input(\"Enter the paragraph: \")\n",
        "      #target = input(\"What would you like to search\")\n",
        "      client = nlpcloud.Client(\"finetuned-llama-3-70b\", \"e1299d412c743121895ffdcf835bda98dacb606c\", gpu=True)\n",
        "      response = client.sentiment(para)\n",
        "      max_score = 0\n",
        "      max_label = ''\n",
        "      for i in response['scored_labels']:\n",
        "        if max_score < i['score']:\n",
        "          max_label = i['label']\n",
        "          max_score = i['score']\n",
        "      print(\"Sentiment: \" + max_label)\n",
        "\n",
        "    def __language_detetction(self):\n",
        "      para = input(\"Enter the paragraph: \")\n",
        "      client = nlpcloud.Client(\"python-langdetect\", \"e1299d412c743121895ffdcf835bda98dacb606c\", gpu=False)\n",
        "      response = client.lang_detection(para)\n",
        "      print(sorted(response.items(), key=lambda x: x[1], reverse=True)[0][0])"
      ],
      "metadata": {
        "id": "tklMTErh1Dsw"
      },
      "execution_count": 22,
      "outputs": []
    },
    {
      "cell_type": "code",
      "source": [
        "obj = NLPHome()"
      ],
      "metadata": {
        "id": "qTkSVVXaEVrD",
        "colab": {
          "base_uri": "https://localhost:8080/"
        },
        "outputId": "c969a3ae-3d45-445a-f205-5f18a7e18a5f"
      },
      "execution_count": 23,
      "outputs": [
        {
          "output_type": "stream",
          "name": "stdout",
          "text": [
            "\n",
            "      Hi There Welcome to NLP Home. How would you like to proceed!\n",
            "      1.Not a member!. Wanna Register?\n",
            "      2.Already a member?. Pls login\n",
            "      3.Exit\n",
            "      1\n",
            "Enter Name: \n",
            "Enter Email: @gmail.com\n",
            "Enter Password: a\n",
            "Registration Successful\n",
            "{'@gmail.com': ['', 'a']}\n",
            "\n",
            "      Hi There Welcome to NLP Home. How would you like to proceed!\n",
            "      1.Not a member!. Wanna Register?\n",
            "      2.Already a member?. Pls login\n",
            "      3.Exit\n",
            "      2\n",
            "Enter the email: @gmail.com\n",
            "Enter the password: a\n",
            "login successful\n",
            "\n",
            "        Welcome to NLP Home. How would you like to proceed!\n",
            "        1.NER\n",
            "        2.Language Detection\n",
            "        3.sentiment Analysis\n",
            "        4.Exit\n",
            "        1\n",
            "Enter the paragraph: John Doe started learning Javascript when he was 15 years old. After a couple of years he switched to Python and starter learning low level programming. He is now a Go expert at Google.\n",
            "What would you like to search: programming languages\n",
            "{'entities': [{'start': 26, 'end': 36, 'type': 'programming languages', 'text': 'Javascript'}, {'start': 102, 'end': 108, 'type': 'programming languages', 'text': 'Python'}, {'start': 165, 'end': 167, 'type': 'programming languages', 'text': 'Go'}]}\n"
          ]
        }
      ]
    },
    {
      "cell_type": "code",
      "source": [],
      "metadata": {
        "id": "YhnqyKn7xRg-"
      },
      "execution_count": null,
      "outputs": []
    }
  ]
}